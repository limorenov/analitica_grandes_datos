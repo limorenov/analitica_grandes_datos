{
 "cells": [
  {
   "cell_type": "markdown",
   "metadata": {},
   "source": [
    "# Análisis e Implementación en SparkQL\n",
    "\n",
    "* Entrega hasta el 24 de mayo en https://forms.gle/aRiWtjayausRFCTd8\n",
    "\n",
    "* Los dos conjuntos de datos entregados, CSV separados por coma, Evaluación del Pitch (2021.04.13 ISoftware).csv y Asistencia del Pitch (2021.04.13 ISoftware).csv proceden de dos encuestas realizadas con Google Forms.\n",
    "\n",
    "* Los archivos proceden de las evaluaciones de los pitch (exposiciones cortas de negocio) que realizan los estudiantes de la asignatura de Ingeniería de Software. Los estudiantes están organizados en equipos. Cada equipo realiza una presentación de máximo 15 minutos, una vez inicia la presentación todos los estudiantes deben registrar su asistencia lo cual queda registrado en 'Asistencia del Pitch (2021.04.13 ISoftware).csv' incluidos los miembros del equipo.\n",
    "\n",
    "* El archivo `Asistencia del Pitch (2021.04.13 ISoftware).csv` contiene las columnas: `\"Marca temporal\"` es tiempo dado en fecha y hora, `\"Nombre de usuario\"` es el correo electrónico del estudiante y es texto,`\"Equipo al que perteneces:\"` equipo de trabajo al que pertenece el estudiante también es texto y `\"Equipo que va a exponer:\"` equipo que el estudiante va a tender a su presentación.\n",
    "\n",
    "* El archivo `Evaluación del Pitch (2021.04.13 ISoftware).csv` contiene las columnas `\"Marca temporal\"` es tiempo dado en fecha y hora, `\"Nombre de usuario\"` es el correo electrónico del estudiante y es texto, `\"Equipo que vas a evaluar:\"` equipo que ha expuesto y que va a ser evaluado por cada estudiante que no sea integrante; a continuación, se tienen las siguientes columnas que corresponden a la evaluación de los respectivos ítems:\n",
    "\n",
    "    1. \"Introducción: El equipo responde adecuadamente ¿Quiénes son y por qué están aquí?\",\n",
    "    2. \"Equipo: El equipo responde adecuadamente ¿Quiénes están detrás de la idea y cuál es su función?\",\n",
    "    3. \"Problema: El equipo responde adecuadamente ¿Qué problema resolverá?, ¿es realmente un problema?\",\n",
    "    4. \"Ventajas: El equipo responde adecuadamente ¿Por qué su solución es especial?, ¿qué la hace distinta de otras?\",\n",
    "    5. \"Solución: El equipo responde adecuadamente ¿Cómo piensa resolver el problema?\",\n",
    "    6. \"Producto: El equipo responde adecuadamente ¿Cómo funciona el producto o servicio? Muestra algunos ejemplos.\",\n",
    "    7. \"Tracción: El equipo responde adecuadamente si cuenta con clientes que demuestran potencial.\",\n",
    "    8. \"Mercado: El equipo responde conoce, o por lo menos intentar predecir, el tamaño del mercado que impactará.\",\n",
    "    9. \"Competencia: El equipo responde adecuadamente ¿Cuáles son las soluciones alternativas al problema que plantea?\",\n",
    "    10. \"Modelo de negocio: El equipo responde adecuadamente ¿Cómo hará dinero? \",\n",
    "    11. \"Inversión: El equipo responde adecuadamente ¿Cuál es su presupuesto y cuánto espera ganar?\",\n",
    "    12. \"Contacto: El equipo deja los datos al cliente y muestra cómo pueden contactarle.\",\n",
    "    13. \"Exposición: ¿Qué tan coordinados estaban los expositores?\",\n",
    "    14. \"Exposición: ¿Los expositores se expresaron con claridad y se hicieron entender?\",\n",
    "    15. \"Exposición: Las diapositivas son claras y coherentes y apoyaron adecuadamente la exposición.\",\n",
    "    * \"Suponiendo que eres inversionista, ¿Estarías dispuesto a invertir dinero en este equipo? (esta pregunta no se pondera en la nota)\",\n",
    "    * \"Observaciones para el equipo, estas observaciones las debe considerar el equipo para mejorar la siguiente presentación.\"\n",
    "\n",
    "\n",
    "* Cada ítem se evalúa con la siguiente escala: 0. Ausente; 1. Deficiente; 2. Regular; 3. Aceptable; 4. Bueno; 5. Excelente\n",
    "\n",
    "* Carge los datos, cada archivo en una tabla SparkSQL y responda cada una de las consultas dadas en cada celda. Tenga en cuenta que algunas consultas pueden tener como resultado el vacío."
   ]
  },
  {
   "cell_type": "markdown",
   "metadata": {},
   "source": [
    "# Integrantes del equipo\n",
    "1. Elkin Castillo\n",
    "2. Camilo Figueroa\n",
    "3. Joan Sebastián Jimenez\n",
    "4. Lina María Moreno Vásquez\n"
   ]
  },
  {
   "cell_type": "code",
   "execution_count": 15,
   "metadata": {},
   "outputs": [],
   "source": [
    "# Agrege acá el código para importar las librerias\n",
    "\n",
    "# La libreria para \"encontrar el sevicio\" de Spark\n",
    "import findspark\n",
    "findspark.init()\n",
    "\n",
    "# Librerias para \"gestionar el servicio\" de Spark\n",
    "from pyspark import SparkConf, SparkContext\n",
    "from pyspark.sql import SQLContext, SparkSession\n",
    "\n",
    "# Creamos una aplicación Spark en el Servicio\n",
    "# Tenga cuidado con las tildes o caracteres especiales en el nombre de la app\n",
    "AppSpark = SparkConf().setAppName(\"Evaluacion iSofware\")\n",
    "\n",
    "# definimos un espacio o contexto para la App\n",
    "ContextoSpark=SparkContext(conf=AppSpark)\n",
    "\n",
    "# inicio una sesión en el espacio de la App\n",
    "SesionSpark = SparkSession(ContextoSpark)\n",
    "\n",
    "# inicio del espacio o contexto SQL\n",
    "ContextoSql = SQLContext(sparkContext=ContextoSpark, sparkSession=SesionSpark)"
   ]
  },
  {
   "cell_type": "code",
   "execution_count": 16,
   "metadata": {},
   "outputs": [],
   "source": [
    "#ContextoSpark.stop() #para detener el contexto\n",
    "#ContextoSql.sql('DROP TABLE asistencia_sql') # para eliminar una tabla de sql"
   ]
  },
  {
   "cell_type": "code",
   "execution_count": 17,
   "metadata": {},
   "outputs": [
    {
     "name": "stdout",
     "output_type": "stream",
     "text": [
      "copyFromLocal: `/tmp/Asistencia_del_Pitch.csv': File exists\n",
      "copyFromLocal: `/tmp/Evaluacion_del_Pitch.csv': File exists\n",
      "-rw-r--r--   1 root supergroup      93121 2021-05-07 01:20 /tmp/Asistencia_del_Pitch.csv\n",
      "-rw-r--r--   1 root supergroup     111944 2021-05-07 01:20 /tmp/Evaluacion_del_Pitch.csv\n"
     ]
    }
   ],
   "source": [
    "# 1. Cargue los datos en la carpeta datalake y luego del /datalake al HDFS (Hadoop File System)\n",
    "# Recuerda usar ! para ejecutar el comando en el shell. \n",
    "# Tu código a continuación...\n",
    "!hdfs dfs -copyFromLocal Asistencia_del_Pitch.csv /tmp/\n",
    "!hdfs dfs -copyFromLocal Evaluacion_del_Pitch.csv /tmp/\n",
    "!hdfs dfs -ls /tmp/*csv"
   ]
  },
  {
   "cell_type": "code",
   "execution_count": 18,
   "metadata": {},
   "outputs": [
    {
     "name": "stdout",
     "output_type": "stream",
     "text": [
      "\"Marca temporal\",\"Nombre de usuario\",\"Equipo al que perteneces:\",\"Equipo que va a exponer:\"\n",
      "\"2021/04/08 8:07:55 a.��m. GMT-5\",\"jppinedal@unal.edu.co\",\"Pertenezco a: Servicios a domicilio\",\"Expone: Servicios a domicilio\"\n",
      "\"2021/04/08 8:09:39 a.��m. GMT-5\",\"dgarciabl@unal.edu.co\",\"Pertenezco a: Lo tengo y te lo presto.\",\"Expone: Lo tengo y te lo presto.\"\n",
      "cat: Unable to write to output stream.\n"
     ]
    }
   ],
   "source": [
    "!hdfs dfs -cat /tmp/Asistencia_del_Pitch.csv | head -n3"
   ]
  },
  {
   "cell_type": "code",
   "execution_count": 19,
   "metadata": {},
   "outputs": [
    {
     "name": "stdout",
     "output_type": "stream",
     "text": [
      "root\n",
      " |-- Marca temporal: string (nullable = true)\n",
      " |-- Nombre de usuario: string (nullable = true)\n",
      " |-- Equipo al que perteneces:: string (nullable = true)\n",
      " |-- Equipo que va a exponer:: string (nullable = true)\n",
      "\n"
     ]
    }
   ],
   "source": [
    "# 2. Cree dos tablas SparkSQL y almacene el csv en su correspondiente tabla.\n",
    "# Observación: tenga especial cuidado con los encabezados de los archivos CSV.\n",
    "# Usted puede considerar cambiar los encabezados de los CSV originales\n",
    "# Tu código a continuación...\n",
    "asistencia = SesionSpark.read.load('/tmp/Asistencia_del_Pitch.csv', format = 'csv', sep = ',', inferSchema = 'true', header= 'true')\n",
    "asistencia.printSchema()"
   ]
  },
  {
   "cell_type": "code",
   "execution_count": 20,
   "metadata": {},
   "outputs": [
    {
     "name": "stdout",
     "output_type": "stream",
     "text": [
      "root\n",
      " |-- Marca temporal: string (nullable = true)\n",
      " |-- Nombre de usuario: string (nullable = true)\n",
      " |-- Equipo que vas a evaluar:: string (nullable = true)\n",
      " |-- Introducción: El equipo responde adecuadamente ¿Quiénes son y por qué están aquí?: integer (nullable = true)\n",
      " |-- Equipo: El equipo responde adecuadamente ¿Quiénes están detrás de la idea y cuál es su función?: integer (nullable = true)\n",
      " |-- Problema: El equipo responde adecuadamente ¿Qué problema resolverá?, ¿es realmente un problema?: integer (nullable = true)\n",
      " |-- Ventajas: El equipo responde adecuadamente ¿Por qué su solución es especial?, ¿qué la hace distinta de otras?: integer (nullable = true)\n",
      " |-- Solución: El equipo responde adecuadamente ¿Cómo piensa resolver el problema?: integer (nullable = true)\n",
      " |-- Producto: El equipo responde adecuadamente ¿Cómo funciona el producto o servicio? Muestra algunos ejemplos.: integer (nullable = true)\n",
      " |-- Tracción: El equipo responde adecuadamente si cuenta con clientes que demuestran potencial.: integer (nullable = true)\n",
      " |-- Mercado: El equipo responde conoce, o por lo menos intentar predecir, el tamaño del mercado que impactará.: integer (nullable = true)\n",
      " |-- Competencia: El equipo responde adecuadamente ¿Cuáles son las soluciones alternativas al problema que plantea?: integer (nullable = true)\n",
      " |-- Modelo de negocio: El equipo responde adecuadamente ¿Cómo hará dinero? : integer (nullable = true)\n",
      " |-- Inversión: El equipo responde adecuadamente ¿Cuál es su presupuesto y cuánto espera ganar?: integer (nullable = true)\n",
      " |-- Contacto: El equipo deja los datos al cliente y muestra cómo pueden contactarle.: integer (nullable = true)\n",
      " |-- Exposición: ¿Qué tan coordinados estaban los expositores?: integer (nullable = true)\n",
      " |-- Exposición: ¿Los expositores se expresaron con claridad y se hicieron entender?: integer (nullable = true)\n",
      " |-- Exposición: Las diapositivas son claras y coherentes y apoyaron adecuadamente la exposición.: integer (nullable = true)\n",
      " |-- Suponiendo que eres inversionista, ¿Estarías dispuesto a invertir dinero en este equipo? (esta pregunta no se pondera en la nota): string (nullable = true)\n",
      " |-- Observaciones para el equipo, estas observaciones las debe considerar el equipo para mejorar la siguiente presentación.: string (nullable = true)\n",
      "\n"
     ]
    }
   ],
   "source": [
    "evaluacion = SesionSpark.read.load('/tmp/Evaluacion_del_Pitch.csv', format = 'csv', sep = ',', inferSchema = 'true', header= 'true')\n",
    "evaluacion.printSchema()"
   ]
  },
  {
   "cell_type": "code",
   "execution_count": 21,
   "metadata": {},
   "outputs": [],
   "source": [
    "#cambiamos los nombres de las columnas:\n",
    "from pyspark.sql.functions import col"
   ]
  },
  {
   "cell_type": "code",
   "execution_count": 22,
   "metadata": {},
   "outputs": [
    {
     "name": "stdout",
     "output_type": "stream",
     "text": [
      "+--------------------+--------------------+--------------------+--------------------+\n",
      "|               fecha|              correo|              equipo|    equipo_expositor|\n",
      "+--------------------+--------------------+--------------------+--------------------+\n",
      "|2021/04/08 8:07:5...|jppinedal@unal.ed...|Pertenezco a: Ser...|Expone: Servicios...|\n",
      "|2021/04/08 8:09:3...|dgarciabl@unal.ed...|Pertenezco a: Lo ...|Expone: Lo tengo ...|\n",
      "|2021/04/08 8:09:5...|auarbelaeza@unal....|Pertenezco a: Ges...|Expone: Te lo cam...|\n",
      "|2021/04/08 8:09:5...|jmunozhe@unal.edu.co|Pertenezco a: Lo ...|Expone: Te lo cam...|\n",
      "|2021/04/08 8:10:0...|dgerenal@unal.edu.co|Pertenezco a: Te ...|Expone: Te lo cam...|\n",
      "|2021/04/08 8:10:1...|nvalenciat@unal.e...|Pertenezco a: Te ...|Expone: Te lo cam...|\n",
      "|2021/04/08 8:10:1...|fmiranda@unal.edu.co|Pertenezco a: Mi ...|Expone: Te lo cam...|\n",
      "|2021/04/08 8:10:2...|jucardonaa@unal.e...|Pertenezco a: Ges...|Expone: Te lo cam...|\n",
      "|2021/04/08 8:10:2...|seagudeloo@unal.e...|Pertenezco a: Ges...|Expone: Te lo cam...|\n",
      "|2021/04/08 8:10:2...|jmonsalveb@unal.e...|Pertenezco a: Ges...|Expone: Te lo cam...|\n",
      "+--------------------+--------------------+--------------------+--------------------+\n",
      "only showing top 10 rows\n",
      "\n"
     ]
    }
   ],
   "source": [
    "asistencia = asistencia.select(col(\"Marca temporal\").alias(\"fecha\"), col(\"Nombre de usuario\").alias(\"correo\"), col(\"Equipo al que perteneces:\").alias(\"equipo\"), col(\"Equipo que va a exponer:\").alias(\"equipo_expositor\"))\n",
    "asistencia.show(10)\n"
   ]
  },
  {
   "cell_type": "code",
   "execution_count": 23,
   "metadata": {},
   "outputs": [
    {
     "name": "stdout",
     "output_type": "stream",
     "text": [
      "+--------------------+--------------------+----------------+---+---+---+---+---+---+---+---+---+---+---+---+---+---+---+----------+--------------------+\n",
      "|               fecha|              correo|equipo_expositor| p1| p2| p3| p4| p5| p6| p7| p8| p9|p10|p11|p12|p13|p14|p15|invertiria|       observaciones|\n",
      "+--------------------+--------------------+----------------+---+---+---+---+---+---+---+---+---+---+---+---+---+---+---+----------+--------------------+\n",
      "|2021/04/08 8:26:3...|jmunozbo@unal.edu.co|   Te lo cambio.|  5|  5|  5|  5|  5|  5|  5|  5|  5|  5|  3|  5|  5|  5|  5|   Tal vez|                null|\n",
      "|2021/04/08 8:26:4...|daestradam@unal.e...|   Te lo cambio.|  5|  5|  5|  4|  5|  5|  4|  5|  4|  4|  4|  4|  4|  5|  5|   Tal vez|                null|\n",
      "|2021/04/08 8:27:2...|seagudeloo@unal.e...|   Te lo cambio.|  4|  4|  4|  4|  4|  4|  4|  4|  3|  4|  3|  5|  5|  4|  5|        Sí|                null|\n",
      "|2021/04/08 8:27:3...|jubuitrago@unal.e...|   Te lo cambio.|  5|  4|  5|  4|  5|  5|  4|  4|  5|  4|  4|  4|  5|  5|  5|        No|Realmente siento ...|\n",
      "|2021/04/08 8:27:4...|acastrillonv@unal...|   Te lo cambio.|  3|  3|  2|  2|  3|  4|  3|  3|  3|  4|  3|  4|  4|  3|  3|        No|                null|\n",
      "+--------------------+--------------------+----------------+---+---+---+---+---+---+---+---+---+---+---+---+---+---+---+----------+--------------------+\n",
      "only showing top 5 rows\n",
      "\n"
     ]
    }
   ],
   "source": [
    "evaluacion = evaluacion.select(\n",
    "\tcol(\"Marca temporal\").alias(\"fecha\"),\n",
    "\tcol(\"Nombre de usuario\").alias(\"correo\"),\n",
    "\tcol(\"Equipo que vas a evaluar:\").alias(\"equipo_expositor\"),\n",
    "\tcol(\"Introducción: El equipo responde adecuadamente ¿Quiénes son y por qué están aquí?\").alias(\"p1\"),\n",
    "\tcol(\"Equipo: El equipo responde adecuadamente ¿Quiénes están detrás de la idea y cuál es su función?\").alias(\"p2\"),\n",
    "\tcol(\"Problema: El equipo responde adecuadamente ¿Qué problema resolverá?, ¿es realmente un problema?\").alias(\"p3\"),\n",
    "\tcol(\"Ventajas: El equipo responde adecuadamente ¿Por qué su solución es especial?, ¿qué la hace distinta de otras?\").alias(\"p4\"),\n",
    "\tcol(\"Solución: El equipo responde adecuadamente ¿Cómo piensa resolver el problema?\").alias(\"p5\"),\n",
    "\tcol(\"`Producto: El equipo responde adecuadamente ¿Cómo funciona el producto o servicio? Muestra algunos ejemplos.`\").alias(\"p6\"),\n",
    "\tcol(\"`Tracción: El equipo responde adecuadamente si cuenta con clientes que demuestran potencial.`\").alias(\"p7\"),\n",
    "\tcol(\"`Mercado: El equipo responde conoce, o por lo menos intentar predecir, el tamaño del mercado que impactará.`\").alias(\"p8\"),\n",
    "\tcol(\"Competencia: El equipo responde adecuadamente ¿Cuáles son las soluciones alternativas al problema que plantea?\").alias(\"p9\"),\n",
    "\tcol(\"Modelo de negocio: El equipo responde adecuadamente ¿Cómo hará dinero? \").alias(\"p10\"),\n",
    "\tcol(\"Inversión: El equipo responde adecuadamente ¿Cuál es su presupuesto y cuánto espera ganar?\").alias(\"p11\"),\n",
    "\tcol(\"`Contacto: El equipo deja los datos al cliente y muestra cómo pueden contactarle.`\").alias(\"p12\"),\n",
    "\tcol(\"Exposición: ¿Qué tan coordinados estaban los expositores?\").alias(\"p13\"),\n",
    "\tcol(\"Exposición: ¿Los expositores se expresaron con claridad y se hicieron entender?\").alias(\"p14\"),\n",
    "\tcol(\"`Exposición: Las diapositivas son claras y coherentes y apoyaron adecuadamente la exposición.`\").alias(\"p15\"),\n",
    "\tcol(\"Suponiendo que eres inversionista, ¿Estarías dispuesto a invertir dinero en este equipo? (esta pregunta no se pondera en la nota)\").alias(\"invertiria\"),\n",
    "\tcol(\"`Observaciones para el equipo, estas observaciones las debe considerar el equipo para mejorar la siguiente presentación.`\").alias(\"observaciones\")\n",
    "\t)\n",
    "\n",
    "evaluacion.show(5)"
   ]
  },
  {
   "cell_type": "code",
   "execution_count": 24,
   "metadata": {},
   "outputs": [
    {
     "name": "stdout",
     "output_type": "stream",
     "text": [
      "+--------------------+--------------------+----------------+---+---+---+---+---+---+---+---+---+---+---+---+---+---+---+----------+--------------------+------------------+\n",
      "|               fecha|              correo|equipo_expositor| p1| p2| p3| p4| p5| p6| p7| p8| p9|p10|p11|p12|p13|p14|p15|invertiria|       observaciones|          promedio|\n",
      "+--------------------+--------------------+----------------+---+---+---+---+---+---+---+---+---+---+---+---+---+---+---+----------+--------------------+------------------+\n",
      "|2021/04/08 8:26:3...|jmunozbo@unal.edu.co|   Te lo cambio.|  5|  5|  5|  5|  5|  5|  5|  5|  5|  5|  3|  5|  5|  5|  5|   Tal vez|                null| 4.866666666666666|\n",
      "|2021/04/08 8:26:4...|daestradam@unal.e...|   Te lo cambio.|  5|  5|  5|  4|  5|  5|  4|  5|  4|  4|  4|  4|  4|  5|  5|   Tal vez|                null| 4.533333333333333|\n",
      "|2021/04/08 8:27:2...|seagudeloo@unal.e...|   Te lo cambio.|  4|  4|  4|  4|  4|  4|  4|  4|  3|  4|  3|  5|  5|  4|  5|        Sí|                null| 4.066666666666666|\n",
      "|2021/04/08 8:27:3...|jubuitrago@unal.e...|   Te lo cambio.|  5|  4|  5|  4|  5|  5|  4|  4|  5|  4|  4|  4|  5|  5|  5|        No|Realmente siento ...| 4.533333333333333|\n",
      "|2021/04/08 8:27:4...|acastrillonv@unal...|   Te lo cambio.|  3|  3|  2|  2|  3|  4|  3|  3|  3|  4|  3|  4|  4|  3|  3|        No|                null|3.1333333333333333|\n",
      "+--------------------+--------------------+----------------+---+---+---+---+---+---+---+---+---+---+---+---+---+---+---+----------+--------------------+------------------+\n",
      "only showing top 5 rows\n",
      "\n"
     ]
    }
   ],
   "source": [
    "## Agregamos de una vez la calificación total de cada estudiante como un promedio de las 15 preguntas.\n",
    "from pyspark.sql.functions import col\n",
    "\n",
    "columnas = [col('p1'), col('p2'), col('p3'), col('p4'), col('p5'), col('p6'), col('p7'), col('p8'), col('p9'), col('p10'), col('p11'), col('p12'), col('p13'), col('p14'), col('p15')]\n",
    "funcion_promedio = sum(x for x in columnas)/len(columnas)\n",
    "evaluacion = evaluacion.withColumn('promedio', funcion_promedio)\n",
    "evaluacion.show(5)"
   ]
  },
  {
   "cell_type": "code",
   "execution_count": 26,
   "metadata": {},
   "outputs": [],
   "source": [
    "# 2. Consulte el listado total de estudiantes (correos electrónicos) del \n",
    "# curso de Ingeniería de Software, ordenados alfabéticamente\n",
    "# Tu código a continuación...\n",
    "\n",
    "asistencia.createOrReplaceTempView('vista_asistencia')    "
   ]
  },
  {
   "cell_type": "code",
   "execution_count": 27,
   "metadata": {},
   "outputs": [
    {
     "name": "stdout",
     "output_type": "stream",
     "text": [
      "+--------+----------------+-----------+\n",
      "|database|       tableName|isTemporary|\n",
      "+--------+----------------+-----------+\n",
      "|        |vista_asistencia|       true|\n",
      "+--------+----------------+-----------+\n",
      "\n"
     ]
    }
   ],
   "source": [
    "ContextoSql.sql('show tables').show()"
   ]
  },
  {
   "cell_type": "code",
   "execution_count": 28,
   "metadata": {},
   "outputs": [
    {
     "name": "stdout",
     "output_type": "stream",
     "text": [
      "+--------------------+\n",
      "|              correo|\n",
      "+--------------------+\n",
      "| abanolc@unal.edu.co|\n",
      "|acastrillonv@unal...|\n",
      "| aflemag@unal.edu.co|\n",
      "|anapariciom@unal....|\n",
      "|angutierrezb@unal...|\n",
      "|anoriega@unal.edu.co|\n",
      "|auarbelaeza@unal....|\n",
      "| bocampo@unal.edu.co|\n",
      "|cgiraldo@unal.edu.co|\n",
      "|cjfunezg@unal.edu.co|\n",
      "+--------------------+\n",
      "only showing top 10 rows\n",
      "\n"
     ]
    }
   ],
   "source": [
    "listado_estudiantes = ContextoSql.sql(\"\"\"\n",
    "    SELECT correo \n",
    "    FROM vista_asistencia \n",
    "    GROUP By correo\n",
    "    ORDER BY correo \n",
    "    \"\"\").show(10)"
   ]
  },
  {
   "cell_type": "code",
   "execution_count": 29,
   "metadata": {},
   "outputs": [
    {
     "name": "stdout",
     "output_type": "stream",
     "text": [
      "+--------------------+-----------+--------------------+--------------------+\n",
      "|              correo|asistencias|          max(fecha)|          min(fecha)|\n",
      "+--------------------+-----------+--------------------+--------------------+\n",
      "|samolinap@unal.ed...|         10|2021/04/13 9:37:2...|2021/04/08 8:11:4...|\n",
      "| jruedat@unal.edu.co|          8|2021/04/13 9:41:2...|2021/04/08 8:12:5...|\n",
      "|nvalenciat@unal.e...|          8|2021/04/13 9:39:3...|2021/04/08 8:10:1...|\n",
      "|serendona@unal.ed...|          8|2021/04/13 9:40:2...|2021/04/08 8:10:4...|\n",
      "|jgutierrezlo@unal...|          8|2021/04/13 9:39:0...|2021/04/08 8:12:0...|\n",
      "+--------------------+-----------+--------------------+--------------------+\n",
      "only showing top 5 rows\n",
      "\n"
     ]
    }
   ],
   "source": [
    "# 3. Consulte la cantidad de asistencias registradas por estudiante; además, la fecha y hora de la primera asistencia\n",
    "# y la fecha y hora de la última asistencia\n",
    "# Tu código a continuación...\n",
    "cant_asistencias =  ContextoSql.sql(\"\"\"\n",
    "    SELECT correo, count(*) AS asistencias, MAX(fecha), MIN(fecha)\n",
    "    FROM vista_asistencia\n",
    "    GROUP BY correo\n",
    "    \"\"\")\n",
    "\n",
    "cant_asistencias.show(5) "
   ]
  },
  {
   "cell_type": "code",
   "execution_count": 30,
   "metadata": {},
   "outputs": [
    {
     "name": "stdout",
     "output_type": "stream",
     "text": [
      "+--------------------+--------+\n",
      "|              correo|count(1)|\n",
      "+--------------------+--------+\n",
      "|jdroldano@unal.ed...|       1|\n",
      "+--------------------+--------+\n",
      "\n"
     ]
    }
   ],
   "source": [
    "# 4. Consulte el listado de estudiantes que asistieron a 2 presentaciones o menos (una).\n",
    "# Tu código a continuación...\n",
    "pocas_presentaciones = ContextoSql.sql(\"\"\"\n",
    "    SELECT correo, count(*)  \n",
    "    FROM vista_asistencia   \n",
    "    GROUP BY correo \n",
    "    having count(*) <=2 \n",
    "    \"\"\")\n",
    "pocas_presentaciones.show()"
   ]
  },
  {
   "cell_type": "code",
   "execution_count": null,
   "metadata": {},
   "outputs": [],
   "source": [
    "# 5. Consulte el listado de estudiantes que no asistieron a ninguna presentación.\n",
    "# Tu código a continuación...    \n",
    "# R/ De la respuesta del punto 4 observamos que solo hay 1 estudiante que asistió a una sola presentación. Ahora, para determinar \n",
    "# quién no asistió a niguna presentación, necesitaríamos el listado de alumnos matriculados en el curso, de esta forma podríamos\n",
    "# hacer el cruce entre ambas tablas y verificar quién está inscrito en el curso y no está en la lista de asistencia."
   ]
  },
  {
   "cell_type": "code",
   "execution_count": 31,
   "metadata": {},
   "outputs": [
    {
     "name": "stdout",
     "output_type": "stream",
     "text": [
      "+--------------------+--------------------+\n",
      "|              equipo|              correo|\n",
      "+--------------------+--------------------+\n",
      "|Administración de...|angutierrezb@unal...|\n",
      "|Administración de...| eapenad@unal.edu.co|\n",
      "|Administración de...|emflorezb@unal.ed...|\n",
      "|Administración de...|framirezf@unal.ed...|\n",
      "|Administración de...|jhcordoba@unal.ed...|\n",
      "|Administración de...| jortize@unal.edu.co|\n",
      "|Administración de...| kmolano@unal.edu.co|\n",
      "|Administración de...|lumarinb@unal.edu.co|\n",
      "|Administración de...|nsalinas@unal.edu.co|\n",
      "|Administración de...|rmbuilesm@unal.ed...|\n",
      "|Administración de...|saespinosab@unal....|\n",
      "|Administración de...|samolinap@unal.ed...|\n",
      "|Administración de...|sednarvaezna@unal...|\n",
      "|Gestión de Menús ...| abanolc@unal.edu.co|\n",
      "|Gestión de Menús ...|anapariciom@unal....|\n",
      "|Gestión de Menús ...|davgarciava@unal....|\n",
      "|Gestión de Menús ...|emlopezr@unal.edu.co|\n",
      "|Gestión de Menús ...|favasquezj@unal.e...|\n",
      "|Gestión de Menús ...|hriveraa@unal.edu.co|\n",
      "|Gestión de Menús ...|jcardonaso@unal.e...|\n",
      "+--------------------+--------------------+\n",
      "only showing top 20 rows\n",
      "\n"
     ]
    }
   ],
   "source": [
    "# 6. Consulte los integrantes por cada equipo al que pertenecen.\n",
    "# Tu código a continuación...\n",
    "integrantes = ContextoSql.sql(\"\"\"\n",
    "    SELECT substring(equipo, 15) AS equipo, correo\n",
    "    FROM vista_asistencia\n",
    "    GROUP BY equipo, correo\n",
    "    ORDER BY equipo, correo\n",
    "    \"\"\")\n",
    "integrantes.show(20)"
   ]
  },
  {
   "cell_type": "code",
   "execution_count": 32,
   "metadata": {},
   "outputs": [
    {
     "name": "stdout",
     "output_type": "stream",
     "text": [
      "+--------------------+--------------------+--------------------+--------------------+\n",
      "|               fecha|              correo|              equipo|    equipo_expositor|\n",
      "+--------------------+--------------------+--------------------+--------------------+\n",
      "|2021/04/08 8:07:5...|jppinedal@unal.ed...|Servicios a domic...|Servicios a domic...|\n",
      "|2021/04/08 8:09:3...|dgarciabl@unal.ed...|Lo tengo y te lo ...|Lo tengo y te lo ...|\n",
      "|2021/04/08 8:09:5...|auarbelaeza@unal....|Gestión de Reside...|       Te lo cambio.|\n",
      "|2021/04/08 8:09:5...|jmunozhe@unal.edu.co|Lo tengo y te lo ...|       Te lo cambio.|\n",
      "|2021/04/08 8:10:0...|dgerenal@unal.edu.co|       Te lo cambio.|       Te lo cambio.|\n",
      "|2021/04/08 8:10:1...|nvalenciat@unal.e...|       Te lo cambio.|       Te lo cambio.|\n",
      "|2021/04/08 8:10:1...|fmiranda@unal.edu.co|     Mi Sanandresito|       Te lo cambio.|\n",
      "|2021/04/08 8:10:2...|jucardonaa@unal.e...|Gestión de progra...|       Te lo cambio.|\n",
      "|2021/04/08 8:10:2...|seagudeloo@unal.e...|Gestión de Reside...|       Te lo cambio.|\n",
      "|2021/04/08 8:10:2...|jmonsalveb@unal.e...|Gestión de progra...|       Te lo cambio.|\n",
      "+--------------------+--------------------+--------------------+--------------------+\n",
      "only showing top 10 rows\n",
      "\n"
     ]
    }
   ],
   "source": [
    "# 7. Consulte la cantidad de asistentes por presentación, sin considerar los asistentes que pertenecen \n",
    "# al equipo que realizó la presentación.\n",
    "# Tu código a continuación...\n",
    "xasistencia =  ContextoSql.sql(\"\"\"\n",
    "    SELECT fecha, correo, substring(equipo, 15) AS equipo, substring(equipo_expositor, 9) AS equipo_expositor\n",
    "    FROM vista_asistencia\n",
    "    \"\"\")\n",
    "xasistencia.show(10)   "
   ]
  },
  {
   "cell_type": "code",
   "execution_count": 33,
   "metadata": {},
   "outputs": [
    {
     "name": "stdout",
     "output_type": "stream",
     "text": [
      "+--------+-----------------+-----------+\n",
      "|database|        tableName|isTemporary|\n",
      "+--------+-----------------+-----------+\n",
      "|        | vista_asistencia|       true|\n",
      "|        |vista_xasistencia|       true|\n",
      "+--------+-----------------+-----------+\n",
      "\n"
     ]
    }
   ],
   "source": [
    "xasistencia.createOrReplaceTempView('vista_xasistencia')\n",
    "ContextoSql.sql('show tables').show()"
   ]
  },
  {
   "cell_type": "code",
   "execution_count": 34,
   "metadata": {},
   "outputs": [
    {
     "name": "stdout",
     "output_type": "stream",
     "text": [
      "+--------------------+-----------------------+\n",
      "|    equipo_expositor|asistentes_presentacion|\n",
      "+--------------------+-----------------------+\n",
      "|Servicios a domic...|                     76|\n",
      "|Lo tengo y te lo ...|                     75|\n",
      "|Gestión de Reside...|                     72|\n",
      "|       Te lo cambio.|                     75|\n",
      "|Administración de...|                     70|\n",
      "|Deserción de estu...|                      3|\n",
      "|Gestión de Menús ...|                     72|\n",
      "|Gestión de progra...|                     74|\n",
      "|     Mi Sanandresito|                     72|\n",
      "+--------------------+-----------------------+\n",
      "\n"
     ]
    }
   ],
   "source": [
    "asist_x_present = ContextoSql.sql(\"\"\"\n",
    "                        SELECT equipo_expositor, count(*) As asistentes_presentacion\n",
    "                        FROM vista_xasistencia\n",
    "                        WHERE equipo <> equipo_expositor \n",
    "                        GROUP BY equipo_expositor\n",
    "                        \"\"\")\n",
    "asist_x_present.show()    "
   ]
  },
  {
   "cell_type": "code",
   "execution_count": 35,
   "metadata": {},
   "outputs": [
    {
     "name": "stdout",
     "output_type": "stream",
     "text": [
      "+--------+-----------------+-----------+\n",
      "|database|        tableName|isTemporary|\n",
      "+--------+-----------------+-----------+\n",
      "|        | vista_asistencia|       true|\n",
      "|        | vista_evaluacion|       true|\n",
      "|        |vista_xasistencia|       true|\n",
      "+--------+-----------------+-----------+\n",
      "\n"
     ]
    }
   ],
   "source": [
    "# 8. Consutar cuáles integrantes evaluaron a su propio equipo. Estas evaluaciones no serán válidas, pues un\n",
    "# integrante no puede evaluar a su propio equipo.\n",
    "# Tu código a continuación...\n",
    "evaluacion.createOrReplaceTempView('vista_evaluacion')\n",
    "ContextoSql.sql('show tables').show()"
   ]
  },
  {
   "cell_type": "code",
   "execution_count": 36,
   "metadata": {},
   "outputs": [
    {
     "name": "stdout",
     "output_type": "stream",
     "text": [
      "+--------------------+\n",
      "|              correo|\n",
      "+--------------------+\n",
      "| jruedat@unal.edu.co|\n",
      "| kmolano@unal.edu.co|\n",
      "|mcarvajalsa@unal....|\n",
      "|daestradam@unal.e...|\n",
      "|jhcordoba@unal.ed...|\n",
      "|  lmayar@unal.edu.co|\n",
      "|hriveraa@unal.edu.co|\n",
      "|anapariciom@unal....|\n",
      "+--------------------+\n",
      "\n"
     ]
    }
   ],
   "source": [
    "## las siguientes son las personas que evaluaron a su propio equipo\n",
    "y = ContextoSql.sql(\"\"\"\n",
    "    SELECT DISTINCT(correo)  \n",
    "    FROM vista_evaluacion\n",
    "    LEFT JOIN vista_xasistencia USING (correo)\n",
    "    WHERE equipo = vista_evaluacion.equipo_expositor\n",
    "    \"\"\")\n",
    "y.show(20)"
   ]
  },
  {
   "cell_type": "code",
   "execution_count": 37,
   "metadata": {},
   "outputs": [
    {
     "name": "stdout",
     "output_type": "stream",
     "text": [
      "+--------------------+--------------------+------+\n",
      "|              correo|              equipo|conteo|\n",
      "+--------------------+--------------------+------+\n",
      "| abanolc@unal.edu.co|Gestión de Menús ...|     7|\n",
      "|acastrillonv@unal...|Gestión de progra...|     8|\n",
      "| aflemag@unal.edu.co|     Mi Sanandresito|     8|\n",
      "|anapariciom@unal....|Servicios a domic...|     1|\n",
      "|anapariciom@unal....|Gestión de Menús ...|     9|\n",
      "+--------------------+--------------------+------+\n",
      "only showing top 5 rows\n",
      "\n"
     ]
    }
   ],
   "source": [
    "## 8.1 A continuación se observa que hubo estudiantes en el archivo de Asistencia que firmaron como si pertenecieran\n",
    "## a dos equipos, ejemplo: anapariciom. En  total son 4 estudiantes donde pasa esto. Se considera esto como \n",
    "# un error al momento de registrar la asistencia y se dejó al estudiante como si perteneciera al equipo \n",
    "# que más asistencias registró el estudiante (en el caso de anapariciom queda asignada a Gestión de Menús):\n",
    "\n",
    "pers_equ = ContextoSql.sql(\"\"\"\n",
    "    SELECT  correo, equipo, COUNT(*) AS conteo\n",
    "    FROM vista_xasistencia\n",
    "    GROUP BY correo, equipo\n",
    "    ORDER BY correo\n",
    "    \"\"\")\n",
    "pers_equ.show(5)"
   ]
  },
  {
   "cell_type": "code",
   "execution_count": 38,
   "metadata": {},
   "outputs": [
    {
     "name": "stdout",
     "output_type": "stream",
     "text": [
      "+--------+-----------------+-----------+\n",
      "|database|        tableName|isTemporary|\n",
      "+--------+-----------------+-----------+\n",
      "|        | vista_asistencia|       true|\n",
      "|        | vista_evaluacion|       true|\n",
      "|        |   vista_pers_equ|       true|\n",
      "|        |vista_xasistencia|       true|\n",
      "+--------+-----------------+-----------+\n",
      "\n"
     ]
    }
   ],
   "source": [
    "pers_equ.createOrReplaceTempView('vista_pers_equ')\n",
    "ContextoSql.sql('show tables').show()"
   ]
  },
  {
   "cell_type": "code",
   "execution_count": 39,
   "metadata": {},
   "outputs": [
    {
     "name": "stdout",
     "output_type": "stream",
     "text": [
      "+--------------------+--------------------+------+--------+\n",
      "|              correo|              equipo|conteo|num_fila|\n",
      "+--------------------+--------------------+------+--------+\n",
      "| kmolano@unal.edu.co|Administración de...|     1|       2|\n",
      "|anapariciom@unal....|Servicios a domic...|     1|       2|\n",
      "|jhcordoba@unal.ed...|Administración de...|     1|       2|\n",
      "|mcarvajalsa@unal....|Gestión de Reside...|     1|       2|\n",
      "| aflemag@unal.edu.co|     Mi Sanandresito|     8|       1|\n",
      "|cjfunezg@unal.edu.co|Servicios a domic...|     8|       1|\n",
      "|angutierrezb@unal...|Administración de...|     8|       1|\n",
      "|anoriega@unal.edu.co|       Te lo cambio.|     8|       1|\n",
      "|auarbelaeza@unal....|Gestión de Reside...|     8|       1|\n",
      "|anapariciom@unal....|Gestión de Menús ...|     9|       1|\n",
      "+--------------------+--------------------+------+--------+\n",
      "only showing top 10 rows\n",
      "\n"
     ]
    }
   ],
   "source": [
    "## Se identifican los repetidos (los 4 estudiantes que firmaron como si pertenecieran a dos equipos.\n",
    "## las filas quedan como num_fila = 2)\n",
    "pers_equ2 = ContextoSql.sql(\"\"\"\n",
    "    SELECT *, ROW_NUMBER ( ) OVER ( PARTITION BY correo ORDER BY conteo DESC) AS num_fila\n",
    "    FROM vista_pers_equ\n",
    "    ORDER BY num_fila DESC\n",
    "    \"\"\")\n",
    "pers_equ2.show(10)"
   ]
  },
  {
   "cell_type": "code",
   "execution_count": 40,
   "metadata": {},
   "outputs": [
    {
     "name": "stdout",
     "output_type": "stream",
     "text": [
      "+--------+-----------------+-----------+\n",
      "|database|        tableName|isTemporary|\n",
      "+--------+-----------------+-----------+\n",
      "|        | vista_asistencia|       true|\n",
      "|        | vista_evaluacion|       true|\n",
      "|        |   vista_pers_equ|       true|\n",
      "|        |  vista_pers_equ2|       true|\n",
      "|        |vista_xasistencia|       true|\n",
      "+--------+-----------------+-----------+\n",
      "\n"
     ]
    }
   ],
   "source": [
    "pers_equ2.createOrReplaceTempView('vista_pers_equ2')\n",
    "ContextoSql.sql('show tables').show()"
   ]
  },
  {
   "cell_type": "code",
   "execution_count": 41,
   "metadata": {},
   "outputs": [
    {
     "name": "stdout",
     "output_type": "stream",
     "text": [
      "+--------------------+--------------------+------+--------+\n",
      "|              correo|              equipo|conteo|num_fila|\n",
      "+--------------------+--------------------+------+--------+\n",
      "|auarbelaeza@unal....|Gestión de Reside...|     8|       1|\n",
      "|angutierrezb@unal...|Administración de...|     8|       1|\n",
      "| aflemag@unal.edu.co|     Mi Sanandresito|     8|       1|\n",
      "| abanolc@unal.edu.co|Gestión de Menús ...|     7|       1|\n",
      "|anapariciom@unal....|Gestión de Menús ...|     9|       1|\n",
      "|anoriega@unal.edu.co|       Te lo cambio.|     8|       1|\n",
      "|daestradam@unal.e...|Lo tengo y te lo ...|     8|       1|\n",
      "| dadazam@unal.edu.co|     Mi Sanandresito|     9|       1|\n",
      "|cquinchiar@unal.e...|Gestión de Reside...|     6|       1|\n",
      "| bocampo@unal.edu.co|Servicios a domic...|     8|       1|\n",
      "+--------------------+--------------------+------+--------+\n",
      "only showing top 10 rows\n",
      "\n"
     ]
    }
   ],
   "source": [
    "## se trabaja solo con los num_fila = 1.\n",
    "pers_equ3 = ContextoSql.sql(\"\"\"\n",
    "    SELECT *\n",
    "    FROM vista_pers_equ2\n",
    "    WHERE num_fila = 1\n",
    "    \"\"\")\n",
    "pers_equ3.show(10)    "
   ]
  },
  {
   "cell_type": "code",
   "execution_count": 42,
   "metadata": {},
   "outputs": [
    {
     "name": "stdout",
     "output_type": "stream",
     "text": [
      "+--------+-----------------+-----------+\n",
      "|database|        tableName|isTemporary|\n",
      "+--------+-----------------+-----------+\n",
      "|        | vista_asistencia|       true|\n",
      "|        | vista_evaluacion|       true|\n",
      "|        |   vista_pers_equ|       true|\n",
      "|        |  vista_pers_equ2|       true|\n",
      "|        |  vista_pers_equ3|       true|\n",
      "|        |vista_xasistencia|       true|\n",
      "+--------+-----------------+-----------+\n",
      "\n"
     ]
    }
   ],
   "source": [
    "pers_equ3.createOrReplaceTempView('vista_pers_equ3')\n",
    "ContextoSql.sql('show tables').show()"
   ]
  },
  {
   "cell_type": "code",
   "execution_count": 43,
   "metadata": {},
   "outputs": [
    {
     "name": "stdout",
     "output_type": "stream",
     "text": [
      "+----+----+----+----+----+----+----+----+----+-----+-----+-----+-----+-----+-----+\n",
      "|avg1|avg2|avg3|avg4|avg5|avg6|avg7|avg8|avg9|avg10|avg11|avg12|avg13|avg14|avg15|\n",
      "+----+----+----+----+----+----+----+----+----+-----+-----+-----+-----+-----+-----+\n",
      "| 4.4| 4.3| 4.4| 4.2| 4.4| 4.4| 4.2| 4.3| 4.2|  4.4|  4.2|  4.5|  4.4|  4.4|  4.5|\n",
      "+----+----+----+----+----+----+----+----+----+-----+-----+-----+-----+-----+-----+\n",
      "\n"
     ]
    }
   ],
   "source": [
    "# 9. Consultar la nota promedio por cada ítem (1 al 15), y la nota promedio total del cada equipo. Recuerde que no\n",
    "# son válidas las evaluaciones realizadas por los miembros del mismo equipo.\n",
    "# Tu código a continuación...\n",
    "\n",
    "nota_prom = ContextoSql.sql(\"\"\"\n",
    "    SELECT ROUND(AVG(p1),1) AS avg1, ROUND(AVG(p2),1) AS avg2, ROUND(AVG(p3),1) AS avg3, ROUND(AVG(p4),1) AS avg4, \n",
    "            ROUND(AVG(p5),1) AS avg5, ROUND(AVG(p6),1) AS avg6, ROUND(AVG(p7),1) AS avg7, ROUND(AVG(p8),1) AS avg8,\n",
    "            ROUND(AVG(p9),1) AS avg9, ROUND(AVG(p10),1) AS avg10, ROUND(AVG(p11),1) AS avg11, ROUND(AVG(p12),1) AS avg12, \n",
    "            ROUND(AVG(p13),1) AS avg13, ROUND(AVG(p14),1) AS avg14, ROUND(AVG(p15),1) AS avg15\n",
    "    FROM vista_evaluacion\n",
    "    LEFT JOIN vista_pers_equ3 USING (correo)\n",
    "    WHERE equipo <> vista_evaluacion.equipo_expositor\n",
    "    \"\"\")\n",
    "nota_prom.show(30)\n"
   ]
  },
  {
   "cell_type": "code",
   "execution_count": 44,
   "metadata": {},
   "outputs": [
    {
     "name": "stdout",
     "output_type": "stream",
     "text": [
      "+--------------------+------------+\n",
      "|    equipo_expositor|promedio_tot|\n",
      "+--------------------+------------+\n",
      "|Servicios a domic...|         4.4|\n",
      "|Lo tengo y te lo ...|         4.5|\n",
      "|Gestión de Reside...|         4.5|\n",
      "|       Te lo cambio.|         4.3|\n",
      "|Administración de...|         4.2|\n",
      "|Deserción de estu...|         4.8|\n",
      "|Gestión de Menús ...|         4.4|\n",
      "|     Mi Sanandresito|         4.2|\n",
      "|Gestión de progra...|         4.4|\n",
      "+--------------------+------------+\n",
      "\n"
     ]
    }
   ],
   "source": [
    "## Promedio total de cada equipo:\n",
    "nota_prom_equ = ContextoSql.sql(\"\"\"\n",
    "    SELECT vista_evaluacion.equipo_expositor, ROUND(AVG(promedio),1) AS promedio_tot\n",
    "    FROM vista_evaluacion\n",
    "    LEFT JOIN vista_pers_equ3 USING (correo)\n",
    "    WHERE equipo <> vista_evaluacion.equipo_expositor\n",
    "    GROUP BY vista_evaluacion.equipo_expositor\n",
    "    \"\"\")\n",
    "nota_prom_equ.show(30)"
   ]
  },
  {
   "cell_type": "code",
   "execution_count": 45,
   "metadata": {},
   "outputs": [
    {
     "name": "stdout",
     "output_type": "stream",
     "text": [
      "+--------------------+----+----+----+----+----+----+----+----+----+-----+-----+-----+-----+-----+-----+------------+\n",
      "|    equipo_expositor|avg1|avg2|avg3|avg4|avg5|avg6|avg7|avg8|avg9|avg10|avg11|avg12|avg13|avg14|avg15|promedio_tot|\n",
      "+--------------------+----+----+----+----+----+----+----+----+----+-----+-----+-----+-----+-----+-----+------------+\n",
      "|Servicios a domic...| 4.5| 4.6| 4.5| 4.3| 4.5| 4.6| 4.1| 4.1| 4.4|  4.3|  4.2|  4.6|  4.5|  4.6|  4.6|         4.4|\n",
      "|Lo tengo y te lo ...| 4.5| 4.6| 4.3| 4.4| 4.4| 4.7| 4.4| 4.3| 4.5|  4.5|  4.4|  4.6|  4.5|  4.6|  4.6|         4.5|\n",
      "|Gestión de Reside...| 4.6| 4.4| 4.6| 4.4| 4.5| 4.1| 4.5| 4.7| 4.4|  4.5|  4.3|  4.6|  4.4|  4.5|  4.4|         4.5|\n",
      "|       Te lo cambio.| 4.4| 4.0| 4.2| 4.0| 4.5| 4.8| 4.1| 4.1| 4.2|  4.3|  3.6|  4.5|  4.6|  4.5|  4.5|         4.3|\n",
      "|Administración de...| 4.1| 4.4| 4.0| 3.9| 4.2| 4.4| 4.0| 4.4| 4.0|  4.4|  4.1|  4.2|  4.3|  4.2|  4.1|         4.2|\n",
      "|Deserción de estu...| 4.5| 5.0| 5.0| 5.0| 4.5| 5.0| 5.0| 4.5| 5.0|  4.5|  4.5|  5.0|  4.5|  4.5|  5.0|         4.8|\n",
      "|Gestión de Menús ...| 4.3| 4.0| 4.6| 4.3| 4.4| 4.0| 4.2| 4.2| 4.3|  4.6|  4.3|  4.5|  4.4|  4.5|  4.7|         4.4|\n",
      "|Gestión de progra...| 4.4| 4.4| 4.5| 3.9| 4.3| 4.4| 4.4| 4.5| 4.3|  4.3|  4.5|  4.4|  4.5|  4.5|  4.6|         4.4|\n",
      "|     Mi Sanandresito| 4.2| 3.9| 4.3| 4.0| 4.3| 4.3| 4.2| 4.4| 3.5|  4.4|  4.4|  4.6|  4.3|  4.2|  4.1|         4.2|\n",
      "+--------------------+----+----+----+----+----+----+----+----+----+-----+-----+-----+-----+-----+-----+------------+\n",
      "\n"
     ]
    }
   ],
   "source": [
    "# 10. Consulte el mejor equipo evaluado por cada ítem (según nota promedio. En caso de empate mostrar todos los empatados) \n",
    "# y el mejor equipo según el promedio total.\n",
    "# Tu código a continuación...\n",
    "nota_item_equ = ContextoSql.sql(\"\"\"\n",
    "    SELECT vista_evaluacion.equipo_expositor, ROUND(AVG(p1),1) AS avg1, ROUND(AVG(p2),1) AS avg2, ROUND(AVG(p3),1) AS avg3, ROUND(AVG(p4),1) AS avg4, \n",
    "            ROUND(AVG(p5),1) AS avg5, ROUND(AVG(p6),1) AS avg6, ROUND(AVG(p7),1) AS avg7, ROUND(AVG(p8),1) AS avg8,\n",
    "            ROUND(AVG(p9),1) AS avg9, ROUND(AVG(p10),1) AS avg10, ROUND(AVG(p11),1) AS avg11, ROUND(AVG(p12),1) AS avg12, \n",
    "            ROUND(AVG(p13),1) AS avg13, ROUND(AVG(p14),1) AS avg14, ROUND(AVG(p15),1) AS avg15, ROUND(AVG(promedio),1) AS promedio_tot\n",
    "    FROM vista_evaluacion\n",
    "    LEFT JOIN vista_pers_equ3 USING (correo)\n",
    "    WHERE equipo <> vista_evaluacion.equipo_expositor\n",
    "    GROUP BY vista_evaluacion.equipo_expositor\n",
    "    \"\"\")\n",
    "nota_item_equ.show(30)\n"
   ]
  },
  {
   "cell_type": "code",
   "execution_count": 46,
   "metadata": {},
   "outputs": [
    {
     "name": "stdout",
     "output_type": "stream",
     "text": [
      "+--------+-------------------+-----------+\n",
      "|database|          tableName|isTemporary|\n",
      "+--------+-------------------+-----------+\n",
      "|        |   vista_asistencia|       true|\n",
      "|        |   vista_evaluacion|       true|\n",
      "|        |vista_nota_item_equ|       true|\n",
      "|        |     vista_pers_equ|       true|\n",
      "|        |    vista_pers_equ2|       true|\n",
      "|        |    vista_pers_equ3|       true|\n",
      "|        |  vista_xasistencia|       true|\n",
      "+--------+-------------------+-----------+\n",
      "\n"
     ]
    }
   ],
   "source": [
    "nota_item_equ.createOrReplaceTempView('vista_nota_item_equ')\n",
    "ContextoSql.sql('show tables').show()"
   ]
  },
  {
   "cell_type": "code",
   "execution_count": 47,
   "metadata": {},
   "outputs": [
    {
     "name": "stdout",
     "output_type": "stream",
     "text": [
      "+--------------------+----+\n",
      "|    equipo_expositor|avg1|\n",
      "+--------------------+----+\n",
      "|Gestión de Reside...| 4.6|\n",
      "+--------------------+----+\n",
      "\n",
      "+--------------------+----+\n",
      "|    equipo_expositor|avg2|\n",
      "+--------------------+----+\n",
      "|Deserción de estu...| 5.0|\n",
      "+--------------------+----+\n",
      "\n",
      "+--------------------+----+\n",
      "|    equipo_expositor|avg3|\n",
      "+--------------------+----+\n",
      "|Deserción de estu...| 5.0|\n",
      "+--------------------+----+\n",
      "\n",
      "+--------------------+----+\n",
      "|    equipo_expositor|avg4|\n",
      "+--------------------+----+\n",
      "|Deserción de estu...| 5.0|\n",
      "+--------------------+----+\n",
      "\n",
      "+--------------------+----+\n",
      "|    equipo_expositor|avg5|\n",
      "+--------------------+----+\n",
      "|Servicios a domic...| 4.5|\n",
      "|Gestión de Reside...| 4.5|\n",
      "|       Te lo cambio.| 4.5|\n",
      "|Deserción de estu...| 4.5|\n",
      "+--------------------+----+\n",
      "\n",
      "+--------------------+----+\n",
      "|    equipo_expositor|avg6|\n",
      "+--------------------+----+\n",
      "|Deserción de estu...| 5.0|\n",
      "+--------------------+----+\n",
      "\n",
      "+--------------------+----+\n",
      "|    equipo_expositor|avg7|\n",
      "+--------------------+----+\n",
      "|Deserción de estu...| 5.0|\n",
      "+--------------------+----+\n",
      "\n",
      "+--------------------+----+\n",
      "|    equipo_expositor|avg8|\n",
      "+--------------------+----+\n",
      "|Gestión de Reside...| 4.7|\n",
      "+--------------------+----+\n",
      "\n",
      "+--------------------+----+\n",
      "|    equipo_expositor|avg9|\n",
      "+--------------------+----+\n",
      "|Deserción de estu...| 5.0|\n",
      "+--------------------+----+\n",
      "\n",
      "+--------------------+-----+\n",
      "|    equipo_expositor|avg10|\n",
      "+--------------------+-----+\n",
      "|Gestión de Menús ...|  4.6|\n",
      "+--------------------+-----+\n",
      "\n",
      "+--------------------+-----+\n",
      "|    equipo_expositor|avg11|\n",
      "+--------------------+-----+\n",
      "|Deserción de estu...|  4.5|\n",
      "|Gestión de progra...|  4.5|\n",
      "+--------------------+-----+\n",
      "\n",
      "+--------------------+-----+\n",
      "|    equipo_expositor|avg12|\n",
      "+--------------------+-----+\n",
      "|Deserción de estu...|  5.0|\n",
      "+--------------------+-----+\n",
      "\n",
      "+----------------+-----+\n",
      "|equipo_expositor|avg13|\n",
      "+----------------+-----+\n",
      "|   Te lo cambio.|  4.6|\n",
      "+----------------+-----+\n",
      "\n",
      "+--------------------+-----+\n",
      "|    equipo_expositor|avg14|\n",
      "+--------------------+-----+\n",
      "|Servicios a domic...|  4.6|\n",
      "|Lo tengo y te lo ...|  4.6|\n",
      "+--------------------+-----+\n",
      "\n",
      "+--------------------+-----+\n",
      "|    equipo_expositor|avg15|\n",
      "+--------------------+-----+\n",
      "|Deserción de estu...|  5.0|\n",
      "+--------------------+-----+\n",
      "\n",
      "+--------------------+------------+\n",
      "|    equipo_expositor|promedio_tot|\n",
      "+--------------------+------------+\n",
      "|Deserción de estu...|         4.8|\n",
      "+--------------------+------------+\n",
      "\n"
     ]
    }
   ],
   "source": [
    "max_avg1 = ContextoSql.sql(\"\"\"\n",
    "        SELECT  equipo_expositor, avg1\n",
    "        FROM vista_nota_item_equ\n",
    "        WHERE avg1 = (SELECT max(avg1) FROM vista_nota_item_equ)\n",
    "        \"\"\")\n",
    "max_avg1.show()\n",
    "\n",
    "max_avg2 = ContextoSql.sql(\"\"\"\n",
    "        SELECT  equipo_expositor, avg2\n",
    "        FROM vista_nota_item_equ\n",
    "        WHERE avg2 = (SELECT max(avg2) FROM vista_nota_item_equ)\n",
    "        \"\"\")\n",
    "max_avg2.show()\n",
    "\n",
    "max_avg3 = ContextoSql.sql(\"\"\"\n",
    "        SELECT  equipo_expositor, avg3\n",
    "        FROM vista_nota_item_equ\n",
    "        WHERE avg3 = (SELECT max(avg3) FROM vista_nota_item_equ)\n",
    "        \"\"\")\n",
    "max_avg3.show()\n",
    "\n",
    "max_avg4 = ContextoSql.sql(\"\"\"\n",
    "        SELECT  equipo_expositor, avg4\n",
    "        FROM vista_nota_item_equ\n",
    "        WHERE avg4 = (SELECT max(avg4) FROM vista_nota_item_equ)\n",
    "        \"\"\")\n",
    "max_avg4.show()\n",
    "\n",
    "max_avg5 = ContextoSql.sql(\"\"\"\n",
    "        SELECT  equipo_expositor, avg5\n",
    "        FROM vista_nota_item_equ\n",
    "        WHERE avg5 = (SELECT max(avg5) FROM vista_nota_item_equ)\n",
    "        \"\"\")\n",
    "max_avg5.show()\n",
    "\n",
    "max_avg6 = ContextoSql.sql(\"\"\"\n",
    "        SELECT  equipo_expositor, avg6\n",
    "        FROM vista_nota_item_equ\n",
    "        WHERE avg6 = (SELECT max(avg6) FROM vista_nota_item_equ)\n",
    "        \"\"\")\n",
    "max_avg6.show()\n",
    "\n",
    "max_avg7 = ContextoSql.sql(\"\"\"\n",
    "        SELECT  equipo_expositor, avg7\n",
    "        FROM vista_nota_item_equ\n",
    "        WHERE avg7 = (SELECT max(avg7) FROM vista_nota_item_equ)\n",
    "        \"\"\")\n",
    "max_avg7.show()\n",
    "\n",
    "max_avg8 = ContextoSql.sql(\"\"\"\n",
    "        SELECT  equipo_expositor, avg8\n",
    "        FROM vista_nota_item_equ\n",
    "        WHERE avg8 = (SELECT max(avg8) FROM vista_nota_item_equ)\n",
    "        \"\"\")\n",
    "max_avg8.show()\n",
    "\n",
    "max_avg9 = ContextoSql.sql(\"\"\"\n",
    "        SELECT  equipo_expositor, avg9\n",
    "        FROM vista_nota_item_equ\n",
    "        WHERE avg9 = (SELECT max(avg9) FROM vista_nota_item_equ)\n",
    "        \"\"\")\n",
    "max_avg9.show()\n",
    "\n",
    "max_avg10 = ContextoSql.sql(\"\"\"\n",
    "        SELECT  equipo_expositor, avg10\n",
    "        FROM vista_nota_item_equ\n",
    "        WHERE avg10 = (SELECT max(avg10) FROM vista_nota_item_equ)\n",
    "        \"\"\")\n",
    "max_avg10.show()\n",
    "\n",
    "max_avg11 = ContextoSql.sql(\"\"\"\n",
    "        SELECT  equipo_expositor, avg11\n",
    "        FROM vista_nota_item_equ\n",
    "        WHERE avg11 = (SELECT max(avg11) FROM vista_nota_item_equ)\n",
    "        \"\"\")\n",
    "max_avg11.show()\n",
    "\n",
    "max_avg12 = ContextoSql.sql(\"\"\"\n",
    "        SELECT  equipo_expositor, avg12\n",
    "        FROM vista_nota_item_equ\n",
    "        WHERE avg12 = (SELECT max(avg12) FROM vista_nota_item_equ)\n",
    "        \"\"\")\n",
    "max_avg12.show()\n",
    "\n",
    "max_avg13 = ContextoSql.sql(\"\"\"\n",
    "        SELECT  equipo_expositor, avg13\n",
    "        FROM vista_nota_item_equ\n",
    "        WHERE avg13 = (SELECT max(avg13) FROM vista_nota_item_equ)\n",
    "        \"\"\")\n",
    "max_avg13.show()\n",
    "\n",
    "max_avg14 = ContextoSql.sql(\"\"\"\n",
    "        SELECT  equipo_expositor, avg14\n",
    "        FROM vista_nota_item_equ\n",
    "        WHERE avg14 = (SELECT max(avg14) FROM vista_nota_item_equ)\n",
    "        \"\"\")\n",
    "max_avg14.show()\n",
    "\n",
    "max_avg15 = ContextoSql.sql(\"\"\"\n",
    "        SELECT  equipo_expositor, avg15\n",
    "        FROM vista_nota_item_equ\n",
    "        WHERE avg15 = (SELECT max(avg15) FROM vista_nota_item_equ)\n",
    "        \"\"\")\n",
    "max_avg15.show()\n",
    "\n",
    "max_promedio_tot = ContextoSql.sql(\"\"\"\n",
    "        SELECT  equipo_expositor, promedio_tot\n",
    "        FROM vista_nota_item_equ\n",
    "        WHERE promedio_tot = (SELECT max(promedio_tot) FROM vista_nota_item_equ)\n",
    "        \"\"\")\n",
    "max_promedio_tot.show()"
   ]
  },
  {
   "cell_type": "code",
   "execution_count": 48,
   "metadata": {},
   "outputs": [
    {
     "name": "stdout",
     "output_type": "stream",
     "text": [
      "+--------------------+----+\n",
      "|    equipo_expositor|avg1|\n",
      "+--------------------+----+\n",
      "|Administración de...| 4.1|\n",
      "+--------------------+----+\n",
      "\n",
      "+----------------+----+\n",
      "|equipo_expositor|avg2|\n",
      "+----------------+----+\n",
      "| Mi Sanandresito| 3.9|\n",
      "+----------------+----+\n",
      "\n",
      "+--------------------+----+\n",
      "|    equipo_expositor|avg3|\n",
      "+--------------------+----+\n",
      "|Administración de...| 4.0|\n",
      "+--------------------+----+\n",
      "\n",
      "+--------------------+----+\n",
      "|    equipo_expositor|avg4|\n",
      "+--------------------+----+\n",
      "|Administración de...| 3.9|\n",
      "|Gestión de progra...| 3.9|\n",
      "+--------------------+----+\n",
      "\n",
      "+--------------------+----+\n",
      "|    equipo_expositor|avg5|\n",
      "+--------------------+----+\n",
      "|Administración de...| 4.2|\n",
      "+--------------------+----+\n",
      "\n",
      "+--------------------+----+\n",
      "|    equipo_expositor|avg6|\n",
      "+--------------------+----+\n",
      "|Gestión de Menús ...| 4.0|\n",
      "+--------------------+----+\n",
      "\n",
      "+--------------------+----+\n",
      "|    equipo_expositor|avg7|\n",
      "+--------------------+----+\n",
      "|Administración de...| 4.0|\n",
      "+--------------------+----+\n",
      "\n",
      "+--------------------+----+\n",
      "|    equipo_expositor|avg8|\n",
      "+--------------------+----+\n",
      "|Servicios a domic...| 4.1|\n",
      "|       Te lo cambio.| 4.1|\n",
      "+--------------------+----+\n",
      "\n",
      "+----------------+----+\n",
      "|equipo_expositor|avg9|\n",
      "+----------------+----+\n",
      "| Mi Sanandresito| 3.5|\n",
      "+----------------+----+\n",
      "\n",
      "+--------------------+-----+\n",
      "|    equipo_expositor|avg10|\n",
      "+--------------------+-----+\n",
      "|Servicios a domic...|  4.3|\n",
      "|       Te lo cambio.|  4.3|\n",
      "|Gestión de progra...|  4.3|\n",
      "+--------------------+-----+\n",
      "\n",
      "+----------------+-----+\n",
      "|equipo_expositor|avg11|\n",
      "+----------------+-----+\n",
      "|   Te lo cambio.|  3.6|\n",
      "+----------------+-----+\n",
      "\n",
      "+--------------------+-----+\n",
      "|    equipo_expositor|avg12|\n",
      "+--------------------+-----+\n",
      "|Administración de...|  4.2|\n",
      "+--------------------+-----+\n",
      "\n",
      "+--------------------+-----+\n",
      "|    equipo_expositor|avg13|\n",
      "+--------------------+-----+\n",
      "|Administración de...|  4.3|\n",
      "|     Mi Sanandresito|  4.3|\n",
      "+--------------------+-----+\n",
      "\n",
      "+--------------------+-----+\n",
      "|    equipo_expositor|avg14|\n",
      "+--------------------+-----+\n",
      "|Administración de...|  4.2|\n",
      "|     Mi Sanandresito|  4.2|\n",
      "+--------------------+-----+\n",
      "\n",
      "+--------------------+-----+\n",
      "|    equipo_expositor|avg15|\n",
      "+--------------------+-----+\n",
      "|Administración de...|  4.1|\n",
      "|     Mi Sanandresito|  4.1|\n",
      "+--------------------+-----+\n",
      "\n",
      "+--------------------+------------+\n",
      "|    equipo_expositor|promedio_tot|\n",
      "+--------------------+------------+\n",
      "|Administración de...|         4.2|\n",
      "|     Mi Sanandresito|         4.2|\n",
      "+--------------------+------------+\n",
      "\n"
     ]
    }
   ],
   "source": [
    "# 11. Consulte el peor equipo evaluado por cada ítem (según nota promedio. En caso de empate mostrar todos los empatados) \n",
    "# y el peor equipo según el promedio total.\n",
    "# Tu código a continuación...\n",
    "min_avg1 = ContextoSql.sql(\"\"\"\n",
    "        SELECT  equipo_expositor, avg1\n",
    "        FROM vista_nota_item_equ\n",
    "        WHERE avg1 = (SELECT min(avg1) FROM vista_nota_item_equ)\n",
    "        \"\"\")\n",
    "min_avg1.show()\n",
    "\n",
    "min_avg2 = ContextoSql.sql(\"\"\"\n",
    "        SELECT  equipo_expositor, avg2\n",
    "        FROM vista_nota_item_equ\n",
    "        WHERE avg2 = (SELECT min(avg2) FROM vista_nota_item_equ)\n",
    "        \"\"\")\n",
    "min_avg2.show()\n",
    "\n",
    "min_avg3 = ContextoSql.sql(\"\"\"\n",
    "        SELECT  equipo_expositor, avg3\n",
    "        FROM vista_nota_item_equ\n",
    "        WHERE avg3 = (SELECT min(avg3) FROM vista_nota_item_equ)\n",
    "        \"\"\")\n",
    "min_avg3.show()\n",
    "\n",
    "min_avg4 = ContextoSql.sql(\"\"\"\n",
    "        SELECT  equipo_expositor, avg4\n",
    "        FROM vista_nota_item_equ\n",
    "        WHERE avg4 = (SELECT min(avg4) FROM vista_nota_item_equ)\n",
    "        \"\"\")\n",
    "min_avg4.show()\n",
    "\n",
    "min_avg5 = ContextoSql.sql(\"\"\"\n",
    "        SELECT  equipo_expositor, avg5\n",
    "        FROM vista_nota_item_equ\n",
    "        WHERE avg5 = (SELECT min(avg5) FROM vista_nota_item_equ)\n",
    "        \"\"\")\n",
    "min_avg5.show()\n",
    "\n",
    "min_avg6 = ContextoSql.sql(\"\"\"\n",
    "        SELECT  equipo_expositor, avg6\n",
    "        FROM vista_nota_item_equ\n",
    "        WHERE avg6 = (SELECT min(avg6) FROM vista_nota_item_equ)\n",
    "        \"\"\")\n",
    "min_avg6.show()\n",
    "\n",
    "min_avg7 = ContextoSql.sql(\"\"\"\n",
    "        SELECT  equipo_expositor, avg7\n",
    "        FROM vista_nota_item_equ\n",
    "        WHERE avg7 = (SELECT min(avg7) FROM vista_nota_item_equ)\n",
    "        \"\"\")\n",
    "min_avg7.show()\n",
    "\n",
    "min_avg8 = ContextoSql.sql(\"\"\"\n",
    "        SELECT  equipo_expositor, avg8\n",
    "        FROM vista_nota_item_equ\n",
    "        WHERE avg8 = (SELECT min(avg8) FROM vista_nota_item_equ)\n",
    "        \"\"\")\n",
    "min_avg8.show()\n",
    "\n",
    "min_avg9 = ContextoSql.sql(\"\"\"\n",
    "        SELECT  equipo_expositor, avg9\n",
    "        FROM vista_nota_item_equ\n",
    "        WHERE avg9 = (SELECT min(avg9) FROM vista_nota_item_equ)\n",
    "        \"\"\")\n",
    "min_avg9.show()\n",
    "\n",
    "min_avg10 = ContextoSql.sql(\"\"\"\n",
    "        SELECT  equipo_expositor, avg10\n",
    "        FROM vista_nota_item_equ\n",
    "        WHERE avg10 = (SELECT min(avg10) FROM vista_nota_item_equ)\n",
    "        \"\"\")\n",
    "min_avg10.show()\n",
    "\n",
    "min_avg11 = ContextoSql.sql(\"\"\"\n",
    "        SELECT  equipo_expositor, avg11\n",
    "        FROM vista_nota_item_equ\n",
    "        WHERE avg11 = (SELECT min(avg11) FROM vista_nota_item_equ)\n",
    "        \"\"\")\n",
    "min_avg11.show()\n",
    "\n",
    "min_avg12 = ContextoSql.sql(\"\"\"\n",
    "        SELECT  equipo_expositor, avg12\n",
    "        FROM vista_nota_item_equ\n",
    "        WHERE avg12 = (SELECT min(avg12) FROM vista_nota_item_equ)\n",
    "        \"\"\")\n",
    "min_avg12.show()\n",
    "\n",
    "min_avg13 = ContextoSql.sql(\"\"\"\n",
    "        SELECT  equipo_expositor, avg13\n",
    "        FROM vista_nota_item_equ\n",
    "        WHERE avg13 = (SELECT min(avg13) FROM vista_nota_item_equ)\n",
    "        \"\"\")\n",
    "min_avg13.show()\n",
    "\n",
    "min_avg14 = ContextoSql.sql(\"\"\"\n",
    "        SELECT  equipo_expositor, avg14\n",
    "        FROM vista_nota_item_equ\n",
    "        WHERE avg14 = (SELECT min(avg14) FROM vista_nota_item_equ)\n",
    "        \"\"\")\n",
    "min_avg14.show()\n",
    "\n",
    "min_avg15 = ContextoSql.sql(\"\"\"\n",
    "        SELECT  equipo_expositor, avg15\n",
    "        FROM vista_nota_item_equ\n",
    "        WHERE avg15 = (SELECT min(avg15) FROM vista_nota_item_equ)\n",
    "        \"\"\")\n",
    "min_avg15.show()\n",
    "\n",
    "min_promedio_tot = ContextoSql.sql(\"\"\"\n",
    "        SELECT  equipo_expositor, promedio_tot\n",
    "        FROM vista_nota_item_equ\n",
    "        WHERE promedio_tot = (SELECT min(promedio_tot) FROM vista_nota_item_equ)\n",
    "        \"\"\")\n",
    "min_promedio_tot.show()"
   ]
  },
  {
   "cell_type": "code",
   "execution_count": 49,
   "metadata": {},
   "outputs": [
    {
     "name": "stdout",
     "output_type": "stream",
     "text": [
      "+--------------------+------------+\n",
      "|              correo|promedio_tot|\n",
      "+--------------------+------------+\n",
      "| abanolc@unal.edu.co|         4.4|\n",
      "|acastrillonv@unal...|         4.4|\n",
      "| aflemag@unal.edu.co|         4.2|\n",
      "|anapariciom@unal....|         4.4|\n",
      "|angutierrezb@unal...|         4.2|\n",
      "|anoriega@unal.edu.co|         4.3|\n",
      "|auarbelaeza@unal....|         4.5|\n",
      "| bocampo@unal.edu.co|         4.4|\n",
      "|cgiraldo@unal.edu.co|         4.5|\n",
      "|cjfunezg@unal.edu.co|         4.4|\n",
      "|cquinchiar@unal.e...|         4.5|\n",
      "| dadazam@unal.edu.co|         4.2|\n",
      "|daestradam@unal.e...|         4.5|\n",
      "|davgarciava@unal....|         4.4|\n",
      "|dballesteroso@una...|         4.3|\n",
      "|  dbrito@unal.edu.co|         4.5|\n",
      "|dcadavid@unal.edu.co|         4.2|\n",
      "|dcardonaal@unal.e...|         4.5|\n",
      "|dchavarriar@unal....|         4.4|\n",
      "|dgarciabl@unal.ed...|         4.5|\n",
      "+--------------------+------------+\n",
      "only showing top 20 rows\n",
      "\n"
     ]
    }
   ],
   "source": [
    "# 12. Consulte la lista de estudiantes con la correspondiente nota obtenida en la presentación \n",
    "# (nota promedio total de la evaluación obtenida por el equipo)\n",
    "# Tu código a continuación...\n",
    "nota_estudiante = ContextoSql.sql(\"\"\"\n",
    "                SELECT correo, promedio_tot\n",
    "                FROM vista_pers_equ3\n",
    "                LEFT JOIN vista_nota_item_equ\n",
    "                ON vista_nota_item_equ.equipo_expositor = vista_pers_equ3.equipo\n",
    "                ORDER BY correo\n",
    "                \"\"\")\n",
    "nota_estudiante.show(20)               \n"
   ]
  }
 ],
 "metadata": {
  "kernelspec": {
   "display_name": "Python 3",
   "language": "python",
   "name": "python3"
  },
  "language_info": {
   "codemirror_mode": {
    "name": "ipython",
    "version": 3
   },
   "file_extension": ".py",
   "mimetype": "text/x-python",
   "name": "python",
   "nbconvert_exporter": "python",
   "pygments_lexer": "ipython3",
   "version": "3.6.9"
  }
 },
 "nbformat": 4,
 "nbformat_minor": 4
}
